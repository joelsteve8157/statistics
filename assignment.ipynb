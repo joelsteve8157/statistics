{
 "cells": [
  {
   "cell_type": "code",
   "execution_count": 1,
   "id": "8daedd22-3707-44f8-a7d1-16d5ecd9a77e",
   "metadata": {},
   "outputs": [
    {
     "data": {
      "text/plain": [
       "84"
      ]
     },
     "execution_count": 1,
     "metadata": {},
     "output_type": "execute_result"
    }
   ],
   "source": [
    "import numpy as np\n",
    "data=[23,34,55,56,57,35,4,47,88,54,22]\n",
    "range_value=max(data)-min(data)\n",
    "range_value"
   ]
  },
  {
   "cell_type": "code",
   "execution_count": 21,
   "id": "3d6c8ed0-f9fc-4eff-aef3-ef770a20fb59",
   "metadata": {},
   "outputs": [
    {
     "name": "stdout",
     "output_type": "stream",
     "text": [
      "0    0.192376\n",
      "dtype: float64\n"
     ]
    }
   ],
   "source": [
    "import pandas as pd\n",
    "import seaborn as sns\n",
    "import matplotlib.pyplot as plt\n",
    "from scipy.stats import skew\n",
    "df = pd.DataFrame(data)\n",
    "print(df.skew())\n"
   ]
  },
  {
   "cell_type": "code",
   "execution_count": 25,
   "id": "fb052bd6-62d4-4633-94c4-9d03b138d4b3",
   "metadata": {},
   "outputs": [
    {
     "name": "stdout",
     "output_type": "stream",
     "text": [
      "0    0.529726\n",
      "dtype: float64\n"
     ]
    }
   ],
   "source": [
    "df = pd.DataFrame(data)\n",
    "print(df.kurtosis())"
   ]
  },
  {
   "cell_type": "code",
   "execution_count": 45,
   "id": "6e65faa8-4e90-4d1b-ab40-6e04c55ab970",
   "metadata": {},
   "outputs": [
    {
     "data": {
      "text/html": [
       "<div>\n",
       "<style scoped>\n",
       "    .dataframe tbody tr th:only-of-type {\n",
       "        vertical-align: middle;\n",
       "    }\n",
       "\n",
       "    .dataframe tbody tr th {\n",
       "        vertical-align: top;\n",
       "    }\n",
       "\n",
       "    .dataframe thead th {\n",
       "        text-align: right;\n",
       "    }\n",
       "</style>\n",
       "<table border=\"1\" class=\"dataframe\">\n",
       "  <thead>\n",
       "    <tr style=\"text-align: right;\">\n",
       "      <th></th>\n",
       "      <th>age</th>\n",
       "      <th>salary</th>\n",
       "    </tr>\n",
       "  </thead>\n",
       "  <tbody>\n",
       "    <tr>\n",
       "      <th>0</th>\n",
       "      <td>49</td>\n",
       "      <td>99.437257</td>\n",
       "    </tr>\n",
       "    <tr>\n",
       "      <th>1</th>\n",
       "      <td>41</td>\n",
       "      <td>73.626524</td>\n",
       "    </tr>\n",
       "    <tr>\n",
       "      <th>2</th>\n",
       "      <td>49</td>\n",
       "      <td>116.065624</td>\n",
       "    </tr>\n",
       "    <tr>\n",
       "      <th>3</th>\n",
       "      <td>45</td>\n",
       "      <td>82.739414</td>\n",
       "    </tr>\n",
       "    <tr>\n",
       "      <th>4</th>\n",
       "      <td>36</td>\n",
       "      <td>109.694353</td>\n",
       "    </tr>\n",
       "  </tbody>\n",
       "</table>\n",
       "</div>"
      ],
      "text/plain": [
       "   age      salary\n",
       "0   49   99.437257\n",
       "1   41   73.626524\n",
       "2   49  116.065624\n",
       "3   45   82.739414\n",
       "4   36  109.694353"
      ]
     },
     "execution_count": 45,
     "metadata": {},
     "output_type": "execute_result"
    }
   ],
   "source": [
    "#covarience and corelation\n",
    "\n",
    "\n",
    "x=np.random.randint(30,50,100)\n",
    "y=x*2+np.random.normal(1,20,100)\n",
    "df=pd.DataFrame({'age':x,'salary':y})\n",
    "df.head()\n"
   ]
  },
  {
   "cell_type": "code",
   "execution_count": 47,
   "id": "ec6b1432-b212-4204-9346-a925605eb309",
   "metadata": {},
   "outputs": [
    {
     "name": "stdout",
     "output_type": "stream",
     "text": [
      "correlation=\n",
      "             age    salary\n",
      "age     1.000000  0.483502\n",
      "salary  0.483502  1.000000\n"
     ]
    }
   ],
   "source": [
    "correlation=df.corr(method='pearson')\n",
    "print(f'correlation=\\n{correlation}')"
   ]
  },
  {
   "cell_type": "code",
   "execution_count": 51,
   "id": "7fcea2d4-9be0-4c67-8f0d-cedbcc3a3124",
   "metadata": {},
   "outputs": [
    {
     "name": "stdout",
     "output_type": "stream",
     "text": [
      "covarience=\n",
      "              age      salary\n",
      "age     39.735253   72.765732\n",
      "salary  72.765732  570.007859\n"
     ]
    }
   ],
   "source": [
    "covarience=df.cov()\n",
    "print(f'covarience=\\n{covarience}')"
   ]
  },
  {
   "cell_type": "code",
   "execution_count": null,
   "id": "dbc47923-c791-4a27-b333-80ccabbdf03a",
   "metadata": {},
   "outputs": [],
   "source": []
  }
 ],
 "metadata": {
  "kernelspec": {
   "display_name": "Python 3 (ipykernel)",
   "language": "python",
   "name": "python3"
  },
  "language_info": {
   "codemirror_mode": {
    "name": "ipython",
    "version": 3
   },
   "file_extension": ".py",
   "mimetype": "text/x-python",
   "name": "python",
   "nbconvert_exporter": "python",
   "pygments_lexer": "ipython3",
   "version": "3.12.4"
  }
 },
 "nbformat": 4,
 "nbformat_minor": 5
}
